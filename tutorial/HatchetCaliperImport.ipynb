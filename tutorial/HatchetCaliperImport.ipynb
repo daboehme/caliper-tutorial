{
 "cells": [
  {
   "cell_type": "code",
   "execution_count": 1,
   "id": "db64dd17",
   "metadata": {},
   "outputs": [],
   "source": [
    "import hatchet"
   ]
  },
  {
   "cell_type": "markdown",
   "id": "876e84a3",
   "metadata": {},
   "source": [
    "# Importing Caliper Data in Hatchet\n",
    "\n",
    "Use the `from_caliper_json` reader in Hatchet to import a Caliper `hatchet-region-profile` JSON file:"
   ]
  },
  {
   "cell_type": "code",
   "execution_count": 11,
   "id": "c00d9851",
   "metadata": {},
   "outputs": [
    {
     "name": "stdout",
     "output_type": "stream",
     "text": [
      "                                                      time  nid           name\n",
      "node                                        rank                              \n",
      "{'name': 'MPI_Comm_dup', 'type': 'region'}  0     0.000728   49   MPI_Comm_dup\n",
      "                                            1     0.000908   49   MPI_Comm_dup\n",
      "                                            2     0.001168   49   MPI_Comm_dup\n",
      "                                            3     0.000026   49   MPI_Comm_dup\n",
      "                                            4     0.002095   49   MPI_Comm_dup\n",
      "...                                                    ...  ...            ...\n",
      "{'name': 'MPI_Allreduce', 'type': 'region'} 3     0.767979   47  MPI_Allreduce\n",
      "                                            4     3.794887   47  MPI_Allreduce\n",
      "                                            5     1.585574   47  MPI_Allreduce\n",
      "                                            6     0.817730   47  MPI_Allreduce\n",
      "                                            7     1.341860   47  MPI_Allreduce\n",
      "\n",
      "[408 rows x 3 columns]\n"
     ]
    }
   ],
   "source": [
    "gf = hatchet.GraphFrame.from_caliper_json('data/lulesh_mpi_x8.json')\n",
    "print(gf.dataframe)"
   ]
  },
  {
   "cell_type": "markdown",
   "id": "28d543bc",
   "metadata": {},
   "source": [
    "The profile data contains the exclusive time spent in each measured code region for each MPI rank. We can reduce the index levels to aggregate time per region across ranks, and print the tree.\n",
    "\n",
    "Check out to the Hatchet tutorial to learn more about Hatchet."
   ]
  },
  {
   "cell_type": "code",
   "execution_count": 12,
   "id": "901dcd3f",
   "metadata": {},
   "outputs": [
    {
     "name": "stdout",
     "output_type": "stream",
     "text": [
      "    __          __       __         __ \n",
      "   / /_  ____ _/ /______/ /_  ___  / /_\n",
      "  / __ \\/ __ `/ __/ ___/ __ \\/ _ \\/ __/\n",
      " / / / / /_/ / /_/ /__/ / / /  __/ /_  \n",
      "/_/ /_/\\__,_/\\__/\\___/_/ /_/\\___/\\__/  v1.3.0\n",
      "\n",
      "\u001b[38;5;22m0.001\u001b[0m MPI_Comm_dup\u001b[0m\n",
      "\u001b[38;5;22m0.009\u001b[0m main\u001b[0m\n",
      "├─ \u001b[38;5;22m0.000\u001b[0m CommRecv\u001b[0m\n",
      "│  └─ \u001b[38;5;22m0.000\u001b[0m MPI_Irecv\u001b[0m\n",
      "├─ \u001b[38;5;22m0.000\u001b[0m CommSBN\u001b[0m\n",
      "│  └─ \u001b[38;5;22m0.000\u001b[0m MPI_Wait\u001b[0m\n",
      "├─ \u001b[38;5;22m0.000\u001b[0m CommSend\u001b[0m\n",
      "│  ├─ \u001b[38;5;22m0.001\u001b[0m MPI_Isend\u001b[0m\n",
      "│  └─ \u001b[38;5;22m0.000\u001b[0m MPI_Waitall\u001b[0m\n",
      "├─ \u001b[38;5;22m0.000\u001b[0m MPI_Barrier\u001b[0m\n",
      "├─ \u001b[38;5;22m0.000\u001b[0m MPI_Reduce\u001b[0m\n",
      "└─ \u001b[38;5;22m0.009\u001b[0m lulesh.cycle\u001b[0m\n",
      "   ├─ \u001b[38;5;22m0.008\u001b[0m LagrangeLeapFrog\u001b[0m\n",
      "   │  ├─ \u001b[38;5;22m0.314\u001b[0m CalcTimeConstraintsForElems\u001b[0m\n",
      "   │  ├─ \u001b[38;5;22m0.028\u001b[0m LagrangeElements\u001b[0m\n",
      "   │  │  ├─ \u001b[38;5;22m0.094\u001b[0m ApplyMaterialPropertiesForElems\u001b[0m\n",
      "   │  │  │  └─ \u001b[38;5;34m1.660\u001b[0m EvalEOSForElems\u001b[0m\n",
      "   │  │  │     └─ \u001b[38;5;220m4.215\u001b[0m CalcEnergyForElems\u001b[0m\n",
      "   │  │  ├─ \u001b[38;5;22m0.103\u001b[0m CalcLagrangeElements\u001b[0m\n",
      "   │  │  │  └─ \u001b[38;5;46m2.227\u001b[0m CalcKinematicsForElems\u001b[0m\n",
      "   │  │  └─ \u001b[38;5;34m1.167\u001b[0m CalcQForElems\u001b[0m\n",
      "   │  │     ├─ \u001b[38;5;34m0.781\u001b[0m CalcMonotonicQForElems\u001b[0m\n",
      "   │  │     ├─ \u001b[38;5;22m0.074\u001b[0m CommMonoQ\u001b[0m\n",
      "   │  │     │  └─ \u001b[38;5;34m1.315\u001b[0m MPI_Wait\u001b[0m\n",
      "   │  │     ├─ \u001b[38;5;22m0.009\u001b[0m CommRecv\u001b[0m\n",
      "   │  │     │  └─ \u001b[38;5;22m0.010\u001b[0m MPI_Irecv\u001b[0m\n",
      "   │  │     └─ \u001b[38;5;22m0.101\u001b[0m CommSend\u001b[0m\n",
      "   │  │        ├─ \u001b[38;5;22m0.039\u001b[0m MPI_Isend\u001b[0m\n",
      "   │  │        └─ \u001b[38;5;22m0.014\u001b[0m MPI_Waitall\u001b[0m\n",
      "   │  └─ \u001b[38;5;22m0.442\u001b[0m LagrangeNodal\u001b[0m\n",
      "   │     ├─ \u001b[38;5;22m0.111\u001b[0m CalcForceForNodes\u001b[0m\n",
      "   │     │  ├─ \u001b[38;5;22m0.108\u001b[0m CalcVolumeForceForElems\u001b[0m\n",
      "   │     │  │  ├─ \u001b[38;5;196m6.889\u001b[0m CalcHourglassControlForElems\u001b[0m\n",
      "   │     │  │  │  └─ \u001b[38;5;208m5.764\u001b[0m CalcFBHourglassForceForElems\u001b[0m\n",
      "   │     │  │  └─ \u001b[38;5;220m3.898\u001b[0m IntegrateStressForElems\u001b[0m\n",
      "   │     │  ├─ \u001b[38;5;22m0.015\u001b[0m CommRecv\u001b[0m\n",
      "   │     │  │  └─ \u001b[38;5;22m0.015\u001b[0m MPI_Irecv\u001b[0m\n",
      "   │     │  ├─ \u001b[38;5;22m0.100\u001b[0m CommSBN\u001b[0m\n",
      "   │     │  │  └─ \u001b[38;5;34m1.689\u001b[0m MPI_Wait\u001b[0m\n",
      "   │     │  └─ \u001b[38;5;22m0.131\u001b[0m CommSend\u001b[0m\n",
      "   │     │     ├─ \u001b[38;5;22m0.077\u001b[0m MPI_Isend\u001b[0m\n",
      "   │     │     └─ \u001b[38;5;22m0.034\u001b[0m MPI_Waitall\u001b[0m\n",
      "   │     ├─ \u001b[38;5;22m0.012\u001b[0m CommRecv\u001b[0m\n",
      "   │     │  └─ \u001b[38;5;22m0.011\u001b[0m MPI_Irecv\u001b[0m\n",
      "   │     ├─ \u001b[38;5;22m0.098\u001b[0m CommSend\u001b[0m\n",
      "   │     │  ├─ \u001b[38;5;22m0.017\u001b[0m MPI_Isend\u001b[0m\n",
      "   │     │  └─ \u001b[38;5;22m0.598\u001b[0m MPI_Waitall\u001b[0m\n",
      "   │     └─ \u001b[38;5;22m0.290\u001b[0m CommSyncPosVel\u001b[0m\n",
      "   │        └─ \u001b[38;5;22m0.032\u001b[0m MPI_Wait\u001b[0m\n",
      "   └─ \u001b[38;5;22m0.006\u001b[0m TimeIncrement\u001b[0m\n",
      "      └─ \u001b[38;5;34m1.566\u001b[0m MPI_Allreduce\u001b[0m\n",
      "\n",
      "\u001b[4mLegend\u001b[0m (Metric: time)\n",
      "\u001b[38;5;196m█ \u001b[0m6.20 - 6.89\n",
      "\u001b[38;5;208m█ \u001b[0m4.82 - 6.20\n",
      "\u001b[38;5;220m█ \u001b[0m3.44 - 4.82\n",
      "\u001b[38;5;46m█ \u001b[0m2.07 - 3.44\n",
      "\u001b[38;5;34m█ \u001b[0m0.69 - 2.07\n",
      "\u001b[38;5;22m█ \u001b[0m0.00 - 0.69\n",
      "\n",
      "name\u001b[0m User code    \u001b[38;5;160m◀ \u001b[0m Only in left graph    \u001b[38;5;28m▶ \u001b[0m Only in right graph\n",
      "\n"
     ]
    }
   ],
   "source": [
    "gf.drop_index_levels()\n",
    "print(gf.tree())"
   ]
  },
  {
   "cell_type": "markdown",
   "id": "c1141dba",
   "metadata": {},
   "source": [
    "## Reading Metadata\n",
    "\n",
    "\n",
    "The JSON file also contains the Adiak metadata. The metadata entries are stored\n",
    "as top-level entries in the JSON object. We can access them with the JSON\n",
    "reader:"
   ]
  },
  {
   "cell_type": "code",
   "execution_count": 14,
   "id": "7ca7c991",
   "metadata": {},
   "outputs": [
    {
     "name": "stdout",
     "output_type": "stream",
     "text": [
      "The problem size is: 30\n"
     ]
    }
   ],
   "source": [
    "import json\n",
    "\n",
    "with open('data/lulesh_mpi_x8.json') as f:\n",
    "    obj = json.load(f)\n",
    "\n",
    "print(\"The problem size is: {}\".format(int(obj['problem_size'])))"
   ]
  }
 ],
 "metadata": {
  "kernelspec": {
   "display_name": "Python 3 (ipykernel)",
   "language": "python",
   "name": "python3"
  },
  "language_info": {
   "codemirror_mode": {
    "name": "ipython",
    "version": 3
   },
   "file_extension": ".py",
   "mimetype": "text/x-python",
   "name": "python",
   "nbconvert_exporter": "python",
   "pygments_lexer": "ipython3",
   "version": "3.7.3"
  }
 },
 "nbformat": 4,
 "nbformat_minor": 5
}
